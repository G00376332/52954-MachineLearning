{
 "cells": [
  {
   "cell_type": "markdown",
   "metadata": {},
   "source": [
    "# Machine Learning Assignment Tasks 2020\n",
    "\n",
    "This notebook will present solutions to four tasks which were asigned with Machine Learning and Statistics in this semester. "
   ]
  },
  {
   "cell_type": "markdown",
   "metadata": {},
   "source": [
    "* Student Name: **Maciej Burel**\n",
    "* Student ID: G00376332\n",
    "* Lecturer: Dr. Ian McLoughlin"
   ]
  },
  {
   "cell_type": "markdown",
   "metadata": {},
   "source": [
    "##  Table of Contents<a id=\"table\"/>\n",
    "\n",
    "* [Goals and objectives](#goals)\n",
    "* [Task 1 - Calculate the square root of 2](#task1)\n",
    "* [Task 2](#task2)\n",
    "* [Task 3](#task3)\n",
    "* [Task 4](#task4)\n",
    "* [References](#references)"
   ]
  },
  {
   "cell_type": "markdown",
   "metadata": {},
   "source": [
    "## Goals and objectives<a id=\"goals\"/>"
   ]
  },
  {
   "cell_type": "markdown",
   "metadata": {},
   "source": [
    "* Research and investigations of each task \n",
    "* Introduce approach and solution for all tasks  \n",
    "* Implementation and presentation results of each task"
   ]
  },
  {
   "cell_type": "markdown",
   "metadata": {},
   "source": [
    "## Task 1 - Calculate the square root of 2<a id=\"task1\"/>"
   ]
  },
  {
   "cell_type": "markdown",
   "metadata": {},
   "source": [
    "### Description"
   ]
  },
  {
   "cell_type": "markdown",
   "metadata": {},
   "source": [
    "Write a Python function called sqrt2 that calculates and prints to the screen the square root of 2 to 100 decimal places. Your code should not depend on any module from the standard library or otherwise. You should research the task first and include references and a description of your algorithm."
   ]
  },
  {
   "cell_type": "markdown",
   "metadata": {},
   "source": [
    "### Research"
   ]
  },
  {
   "cell_type": "markdown",
   "metadata": {},
   "source": [
    "The square root of 2, or the one-half power of 2, written in mathematics as $\\sqrt{2}$ or $2^1/_2$, is the positive algebraic number that, when multiplied by itself, equals the number 2. Technically, it must be called the principal square root of 2, to distinguish it from the negative number with the same property.[1]\n",
    "\n",
    "Methods of computing square roots are numerical analysis algorithms for finding the principal, or non-negative, square root (usually denoted √S, 2√S, or S1/2) of a real number. Arithmetically, it means given S, a procedure for finding a number which when multiplied by itself, yields S; algebraically, it means a procedure for finding the non-negative root of the equation x2 - S = 0; geometrically, it means given the area of a square, a procedure for constructing a side of the square.\n",
    "\n",
    "Every real number has two square roots. The principal square root of most numbers is an irrational number with an infinite decimal expansion. As a result, the decimal expansion of any such square root can only be computed to some finite-precision approximation. However, even if we are taking the square root of a perfect square integer, so that the result does have an exact finite representation, the procedure used to compute it may only return a series of increasingly accurate approximations.[2]\n",
    "\n",
    "To start calculating and implement Python code for $\\sqrt{2}$ it is good to review available and most suitible methods of calculation.\n",
    "\n",
    "The most common analytical methods are iterative and consist of two steps: finding a suitable starting value, followed by iterative refinement until some termination criteria is met. The starting value can be any number, but fewer iterations will be required the closer it is to the final result. The most familiar such method, most suited for programmatic calculation, is **Newton's method**, which is based on a property of the derivative in the calculus. A few methods like **paper-and-pencil, synthetic division and series expansion, do not require a starting value**. In some applications, an integer square root is required, which is the square root rounded or truncated to the nearest integer (a modified procedure may be employed in this case).\n",
    "The method employed depends on what the result is to be used for (i.e. **how accurate it has to be**), how much effort one is willing to put into the procedure, and what tools are at hand. The methods may be roughly classified as those suitable for mental calculation, those usually requiring at least paper and pencil, and those which are implemented as programs to be executed on a digital electronic computer or other computing device. Algorithms may take into account convergence (how many iterations are required to achieve a specified precision), computational complexity of individual operations (i.e. division) or iterations, and error propagation (the accuracy of the final result).\n",
    "\n",
    "Procedures for finding square roots (particularly the square root of 2) have been known since at least the period of ancient Babylon in the 17th century BCE. Heron's method from first century Egypt was the first ascertainable algorithm for computing square root. Modern analytic methods began to be developed after introduction of the Arabic numeral system to western Europe in the early Renaissance. Today, nearly all computing devices have a fast and accurate square root function, either as a programming language construct, a compiler intrinsic or library function, or as a hardware operator, based on one of the described procedures.[2]"
   ]
  },
  {
   "cell_type": "markdown",
   "metadata": {},
   "source": [
    "Base on the above reviews it seems to be a good approach to use Newton's method for the begining.\n",
    "\n",
    "Newton’s method, also known as Newton-Raphson method is a root-finding algorithm that produces successively better approximations of the roots of a real-valued function. The approximations of the root go as:\n",
    "\n",
    "**x_(n+1) = x_n - f(x_n) / f’(x_n)**\n",
    "\n",
    "**x_0** is the rough approximation of the root done at the first and the successive approximations go as x_1, x_2, ….\n",
    "\n",
    "**f(x_n)** is the function whose root is to be determined and f’(x_n) is the derivative of the function."
   ]
  },
  {
   "cell_type": "markdown",
   "metadata": {},
   "source": [
    "**Newton’s method for square root**\n",
    "If there have to be find the square root of a number n, the function would be f(x) = x² - N and the root of the function, f(x) would have to be found.\n",
    "\n",
    "The value f(x_n) at x = x_n is:\n",
    "\n",
    "f(x_n) = x_n² - N\n",
    "\n",
    "And, the derivative at the point is:\n",
    "\n",
    "f’(x_n) = 2 * x_n\n",
    "\n",
    "Now, the better approximation can be found using (1).\n",
    "\n",
    "x_(n+1) = x_n - (x_n² - N) / (2 * x_n)<br>\n",
    "x_(n+1) = x_n - x_n² / (2 * x_n) + N/ (2 * x_n)<br>\n",
    "x_(n+1) = x_n - x_n / 2+ N/ (2 * x_n)<br>\n",
    "x_(n+1) = x_n / 2+ N/ (2 * x_n)<br>\n",
    "x_(n+1) = (x_n + N/ x_n) / 2<br>\n",
    "\n",
    "This is how the algorithm for finding square root of a number comes."
   ]
  },
  {
   "cell_type": "markdown",
   "metadata": {},
   "source": [
    "## Task 2<a id=\"task2\"/>"
   ]
  },
  {
   "cell_type": "markdown",
   "metadata": {},
   "source": []
  },
  {
   "cell_type": "markdown",
   "metadata": {},
   "source": [
    "## Task 3<a id=\"task3\"/>"
   ]
  },
  {
   "cell_type": "markdown",
   "metadata": {},
   "source": []
  },
  {
   "cell_type": "markdown",
   "metadata": {},
   "source": [
    "## Task 4<a id=\"task4\"/>"
   ]
  },
  {
   "cell_type": "markdown",
   "metadata": {},
   "source": []
  },
  {
   "cell_type": "markdown",
   "metadata": {},
   "source": [
    "## References<a id=\"references\"/>"
   ]
  },
  {
   "cell_type": "markdown",
   "metadata": {},
   "source": [
    "1. [Wikipedia - Square root of 2](https://en.wikipedia.org/wiki/Square_root_of_2)[viewed 10th Oct 2020]\n",
    "1. [Wikipedia - Methods of computing square roots](https://en.wikipedia.org/wiki/Methods_of_computing_square_roots)[viewed 10th Oct 2020]\n",
    "1. [Medium - Newton-Raphson Method](https://surajregmi.medium.com/how-to-calculate-the-square-root-of-a-number-newton-raphson-method-f8007714f64)[viewed 10th Oct 2020]"
   ]
  }
 ],
 "metadata": {
  "kernelspec": {
   "display_name": "Python 3",
   "language": "python",
   "name": "python3"
  },
  "language_info": {
   "codemirror_mode": {
    "name": "ipython",
    "version": 3
   },
   "file_extension": ".py",
   "mimetype": "text/x-python",
   "name": "python",
   "nbconvert_exporter": "python",
   "pygments_lexer": "ipython3",
   "version": "3.7.9"
  }
 },
 "nbformat": 4,
 "nbformat_minor": 4
}
