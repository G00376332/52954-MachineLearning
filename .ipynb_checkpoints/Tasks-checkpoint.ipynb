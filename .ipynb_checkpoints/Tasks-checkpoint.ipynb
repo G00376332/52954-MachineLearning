{
 "cells": [
  {
   "cell_type": "markdown",
   "metadata": {},
   "source": [
    "# Machine Learning Assignment Tasks 2020\n",
    "\n",
    "This notebook will present solutions to four tasks which were asigned with Machine Learning and Statistics in this semester. "
   ]
  },
  {
   "cell_type": "markdown",
   "metadata": {},
   "source": [
    "* Student Name: **Maciej Burel**\n",
    "* Student ID: G00376332\n",
    "* Lecturer: Dr. Ian McLoughlin"
   ]
  },
  {
   "cell_type": "markdown",
   "metadata": {},
   "source": [
    "##  Table of Contents<a id=\"table\"/>\n",
    "\n",
    "* [Goals and objectives](#goals)\n",
    "* [Task 1 - Calculate the square root of 2](#task1)\n",
    "* [Task 2 - Chi-Squared Test](#task2)\n",
    "* [Task 3 - Excel Standard Deviation](#task3)\n",
    "* [Task 4](#task4)\n",
    "* [References](#references)"
   ]
  },
  {
   "cell_type": "markdown",
   "metadata": {},
   "source": [
    "## Goals and objectives<a id=\"goals\"/>"
   ]
  },
  {
   "cell_type": "markdown",
   "metadata": {},
   "source": [
    "* Research and investigations of each task \n",
    "* Introduce approach and solution for all tasks  \n",
    "* Implementation and presentation results of each task"
   ]
  },
  {
   "cell_type": "markdown",
   "metadata": {},
   "source": [
    "## Task 1 - Calculate the square root of 2<a id=\"task1\"/>\n",
    "***\n",
    "\n",
    "<p align=\"center\"> <img width=\"400\" height=\"200\" src=\"Images/root.jpg\" alt=\"root\" /> </p>\n",
    "(Wikipedia, 2016)"
   ]
  },
  {
   "cell_type": "markdown",
   "metadata": {},
   "source": [
    "### Description"
   ]
  },
  {
   "cell_type": "markdown",
   "metadata": {},
   "source": [
    "Write a Python function called sqrt2 that calculates and prints to the screen the square root of 2 to 100 decimal places. Your code should not depend on any module from the standard library or otherwise. You should research the task first and include references and a description of your algorithm."
   ]
  },
  {
   "cell_type": "markdown",
   "metadata": {},
   "source": [
    "### Research"
   ]
  },
  {
   "cell_type": "markdown",
   "metadata": {},
   "source": [
    "The square root of 2, or the one-half power of 2, written in mathematics as $\\sqrt{2}$, is the positive algebraic number that, when multiplied by itself, equals the number 2. Technically, it must be called the principal square root of 2, to distinguish it from the negative number with the same property.[1]\n",
    "\n",
    "Methods of computing square roots are numerical analysis algorithms for finding the principal, or non-negative, square root (usually denoted √S, 2√S, or S1/2) of a real number. Arithmetically, it means given S, a procedure for finding a number which when multiplied by itself, yields S; algebraically, it means a procedure for finding the non-negative root of the equation x2 - S = 0; geometrically, it means given the area of a square, a procedure for constructing a side of the square.\n",
    "\n",
    "Every real number has two square roots. The principal square root of most numbers is an irrational number with an infinite decimal expansion. As a result, the decimal expansion of any such square root can only be computed to some finite-precision approximation. However, even if we are taking the square root of a perfect square integer, so that the result does have an exact finite representation, the procedure used to compute it may only return a series of increasingly accurate approximations.[2]\n",
    "\n",
    "To start calculating and implement Python code for $\\sqrt{2}$ it is good to review available tools and most suitible methods of calculation.\n",
    "\n",
    "The most common analytical methods are iterative and consist of two steps: finding a suitable starting value, followed by iterative refinement until some termination criteria is met. The starting value can be any number, but fewer iterations will be required the closer it is to the final result. The most familiar such method, most suited for programmatic calculation, is **Newton's method**, which is based on a property of the derivative in the calculus. A few methods like **paper-and-pencil, synthetic division and series expansion, do not require a starting value**. In some applications, an integer square root is required, which is the square root rounded or truncated to the nearest integer (a modified procedure may be employed in this case).\n",
    "The method employed depends on what the result is to be used for (i.e. **how accurate it has to be**), how much effort one is willing to put into the procedure, and what tools are at hand. The methods may be roughly classified as those suitable for mental calculation, those usually requiring at least paper and pencil, and those which are implemented as programs to be executed on a digital electronic computer or other computing device. Algorithms may take into account convergence (how many iterations are required to achieve a specified precision), computational complexity of individual operations (i.e. division) or iterations, and error propagation (the accuracy of the final result).\n",
    "\n",
    "Procedures for finding square roots (particularly the square root of 2) have been known since at least the period of ancient Babylon in the 17th century BCE. Heron's method from first century Egypt was the first ascertainable algorithm for computing square root. Modern analytic methods began to be developed after introduction of the Arabic numeral system to western Europe in the early Renaissance. Today, nearly all computing devices have a fast and accurate square root function, either as a programming language construct, a compiler intrinsic or library function, or as a hardware operator, based on one of the described procedures.[2]"
   ]
  },
  {
   "cell_type": "markdown",
   "metadata": {},
   "source": [
    "Base on the above reviews it seems to be a good approach to use Newton's method for the begining."
   ]
  },
  {
   "cell_type": "markdown",
   "metadata": {},
   "source": [
    "Newton’s method, also known as Newton-Raphson method is a root-finding algorithm that produces successively better approximations of the roots of a real-valued function. The approximations of the root go as:\n",
    "\n",
    "$x_(n+1) = x_n - f(x_n) / f’(x_n)$\n",
    "\n",
    "$x_0$ is the rough approximation of the root done at the first and the successive approximations go as $x_1, x_2, ….$\n",
    "\n",
    "$f(x_n)$ is the function whose root is to be determined and f’(x_n) is the derivative of the function."
   ]
  },
  {
   "cell_type": "markdown",
   "metadata": {},
   "source": [
    "**Newton’s method for square root**<br>\n",
    "If there have to be find the square root of a number $n$, the function would be $f(x) = x² - N$ and the root of the function, $f(x)$ would have to be found.\n",
    "\n",
    "The value $f(x_n)$ at $x = x_n$ is:\n",
    "\n",
    "$f(x_n) = x_n² - N$\n",
    "\n",
    "And, the derivative at the point is:\n",
    "\n",
    "$f’(x_n) = 2 * x_n$\n",
    "\n",
    "Now, the better approximation can be found using (1).\n",
    "\n",
    "$x_(n+1) = x_n - (x_n² - N) / (2 * x_n)$<br>\n",
    "$x_(n+1) = x_n - x_n² / (2 * x_n) + N/ (2 * x_n)$<br>\n",
    "$x_(n+1) = x_n - x_n / 2+ N/ (2 * x_n)$<br>\n",
    "$x_(n+1) = x_n / 2+ N/ (2 * x_n)$<br>\n",
    "$x_(n+1) = (x_n + N/ x_n) / 2$<br>\n",
    "\n",
    "This is how the algorithm for finding square root of a number comes."
   ]
  },
  {
   "cell_type": "markdown",
   "metadata": {},
   "source": [
    "### Employing python to calculate the square root of 2 "
   ]
  },
  {
   "cell_type": "markdown",
   "metadata": {},
   "source": [
    "To start writing a function in Python is good to know first what tools are offered and what are their limitations.\n",
    "The task doesn't allow it to use any standard python librarys however it is worth to check what results can be produced by those modules as a reference point.\n",
    "The math library contains **sqrt** function that calculates the square root of a number in a very convenient way with limited precision. For better understanding of squere root is also good to plot graph that will show how that kind function will look like."
   ]
  },
  {
   "cell_type": "code",
   "execution_count": 1,
   "metadata": {},
   "outputs": [
    {
     "data": {
      "image/png": "[encoded data removed]",
      "text/plain": [
       "<Figure size 720x360 with 1 Axes>"
      ]
     },
     "metadata": {
      "needs_background": "light"
     },
     "output_type": "display_data"
    }
   ],
   "source": [
    "# Import all required librarys\n",
    "import numpy as np \n",
    "import matplotlib.pyplot as plt\n",
    "import math \n",
    "\n",
    "# Use magic function to render the figure in a notebook\n",
    "%matplotlib inline\n",
    "\n",
    "# Returns 1000 evenly spaced samples for numbers in range 0-10\n",
    "x = np.linspace(0, 10, 1000)\n",
    "# Use python built-in function for calculation of square root\n",
    "y = np.sqrt(x)\n",
    "\n",
    "# Define chart size\n",
    "plt.figure(figsize=(10,5))\n",
    "# Add grid lines\n",
    "plt.grid(True)\n",
    "# Add title to the chart\n",
    "plt.title(\"Visualization of Square Root Function\", fontweight=\"bold\", fontsize=20)\n",
    "# # Add x lable to the chart\n",
    "plt.xlabel('x', size=12)\n",
    "# Add y lable to the chart\n",
    "plt.ylabel('$y=\\sqrt{x}$', size=12)\n",
    "\n",
    "\n",
    "plt.plot(x,y)\n",
    "plt.show()"
   ]
  },
  {
   "cell_type": "markdown",
   "metadata": {},
   "source": [
    "Looking at the figure on the above graph is visible that square root of 2 is around 1.4. "
   ]
  },
  {
   "cell_type": "markdown",
   "metadata": {},
   "source": [
    "Now is worth to check what result can be obtained by using python built-in function to calculate $\\sqrt2$."
   ]
  },
  {
   "cell_type": "code",
   "execution_count": 2,
   "metadata": {},
   "outputs": [
    {
     "data": {
      "text/plain": [
       "1.4142135623730951"
      ]
     },
     "execution_count": 2,
     "metadata": {},
     "output_type": "execute_result"
    }
   ],
   "source": [
    "# Calculate square root of 2 using python function\n",
    "math.sqrt(2)"
   ]
  },
  {
   "cell_type": "markdown",
   "metadata": {},
   "source": [
    "The next step is to see how precise the result is."
   ]
  },
  {
   "cell_type": "code",
   "execution_count": null,
   "metadata": {},
   "outputs": [],
   "source": [
    "# Display result with precition of 100 decimal places \n",
    "print (format(math.sqrt(2),'.100f'))"
   ]
  },
  {
   "cell_type": "markdown",
   "metadata": {},
   "source": [
    "The result has its limitation and does not give a required precision even as a reference point for this task. \n",
    "Python buil-in **sqrt()** function has issue with floating point representation. Representation error refers to the fact that some (most, actually) decimal fractions cannot be represented exactly as binary (base 2) fractions. This is the chief reason why Python (or Perl, C, C++, Java, Fortran, and many others) often won’t display the exact decimal number that is expected.[3]\n",
    "This can be very easy shown by multiplying $\\sqrt2$ * $\\sqrt2$. The expected result should be obviously equal to **2**."
   ]
  },
  {
   "cell_type": "code",
   "execution_count": null,
   "metadata": {},
   "outputs": [],
   "source": [
    "# Checking the result of multiplication of sqrt(2) * sqrt(2)\n",
    "math.sqrt(2)*math.sqrt(2)"
   ]
  },
  {
   "cell_type": "markdown",
   "metadata": {},
   "source": [
    "#### Task Solution - Newton's method"
   ]
  },
  {
   "cell_type": "markdown",
   "metadata": {},
   "source": [
    "The issue with decimal point representation requires different approach to resolve this task.\n",
    "Function sqrt2 will be created base on the Newton’s method for square root which was choosen for this task in research section.\n",
    "To implement this method to the code and create function it is necessary write a simple translation of the Newtons method to python."
   ]
  },
  {
   "cell_type": "markdown",
   "metadata": {},
   "source": [
    "Computers typically compute the square root of $x$ using a loop. Starting with some guess $z$, the z based can be adjusted on how close $z^2$ is to $x$, producing a better guess:\n",
    "\n",
    "$$ z_{next} = z - \\frac{z^2-x}{2z} $$\n",
    "\n",
    "Repeating this adjustment makes the guess better and better until an answer that is as close to the actual square root as can be is reached."
   ]
  },
  {
   "cell_type": "code",
   "execution_count": null,
   "metadata": {},
   "outputs": [],
   "source": [
    "# Adapted from: https://tour.golang.org/flowcontrol/8 [4]\n",
    " \n",
    "def n_sqrt2(x):\n",
    "  # Initial guess.\n",
    "  z = 1.0\n",
    "  # Keep getting a better estimate for the square root\n",
    "  # of x, until you are within two decimal places.\n",
    "  while abs(z*z - x) >= 0.0001:\n",
    "    # Get a better approximation for the square root.\n",
    "    z -= (z*z - x) / (2*z)\n",
    "  # Return z.\n",
    "  return z\n",
    " \n",
    "# Calculate the square root of 2.\n",
    "z = n_sqrt(2)\n",
    "# Print z.\n",
    "print(format (z,'.100f'))\n",
    "# Print the square of the square of z.\n",
    "print(z*z)"
   ]
  },
  {
   "cell_type": "markdown",
   "metadata": {},
   "source": [
    "The results in this case also don't satisfy requirement for this task. The function n_sqrt2 which uses Newton's method have the same issue with decimal point representation.\n",
    "\n",
    "To overcome comon problem with floating point decimal representation different approach has to be considered.\n",
    "The easiest way is to use integer calculations rather than floating point.\n",
    "\n",
    "Below code works by finding the integer square root of $a$ after multiplying by $10$ raised to the $2 x digits$.\n",
    "At the end the result needs to be converted to a string and add the decimal point at the correct location. \n",
    "\n",
    "The downside of this method is that converting a very large integer to a string isn't very fast but in this task case (100 digits) doen't cause any issues. "
   ]
  },
  {
   "cell_type": "code",
   "execution_count": null,
   "metadata": {},
   "outputs": [],
   "source": [
    "# Adapted from:https://stackoverflow.com/questions/5187664/generating-digits-of-square-root-of-2 [5]\n",
    "\n",
    "# Create sqrt2 function\n",
    "def sqrt2(a, digits):\n",
    "    '''This function will calculate square root of a given number with defined decimal digit precision '''\n",
    "    # Define required precition as a integer number\n",
    "    a = a * (10**(2*digits))\n",
    "    # Define start point \n",
    "    x_prev = 0\n",
    "    # Define next point of approximation\n",
    "    x_next = 1 * (10**digits)\n",
    "    # Using while loop iterate steps to get closer approximation\n",
    "    while x_prev != x_next:\n",
    "        x_prev = x_next\n",
    "        # Claculate next step and use bit shift by 1\n",
    "        x_next = (x_prev + (a // x_prev)) >> 1\n",
    "    # The loop stops when x_prev is equal t x_next     \n",
    "    return x_next\n",
    "# Final result before converting to string\n",
    "sq2=(sqrt2(2, 100))\n",
    "# Format string with appropriete . place for final result and display result\n",
    "print(f'{sq2 // 10**100}.{r % 10**100:0100d}')"
   ]
  },
  {
   "cell_type": "markdown",
   "metadata": {},
   "source": [
    "To compare any calculation of square root of two with 100 decimal places precition, it is important to have very acurate value as a reference point. \n",
    "The good source that can be used is computation done by Robert Nemiroff in NASA.[6]"
   ]
  },
  {
   "cell_type": "code",
   "execution_count": null,
   "metadata": {},
   "outputs": [],
   "source": [
    "nasa=\"1.414213562373095048801688724209698078569671875376948073176679737990732478462107038850387534327641572735013846230912\"\n",
    "1\n",
    "print(nasa[:102])"
   ]
  },
  {
   "cell_type": "markdown",
   "metadata": {},
   "source": [
    "Python has built-in module called Decimal. The decimal module provides support for fast correctly-rounded decimal floating point arithmetic. It offers several advantages over the float datatype.[7] It is a good idea to check what result it produces for square root of 2 and use for validation against this task calculations as well."
   ]
  },
  {
   "cell_type": "code",
   "execution_count": null,
   "metadata": {},
   "outputs": [],
   "source": [
    "# Import Decimal \n",
    "from decimal import *\n",
    "# Set required precition\n",
    "getcontext().prec = 101\n",
    "# Display result\n",
    "print(Decimal(2).sqrt())"
   ]
  },
  {
   "cell_type": "markdown",
   "metadata": {},
   "source": [
    "### Summary and Conclusions"
   ]
  },
  {
   "cell_type": "markdown",
   "metadata": {},
   "source": [
    "Standard methods of calculation of square root of two have a precision limitation due to to the fact that number is irrational and computers have an issue with floating-point representation. Fractions cannot be represented exactly as binary fractions, base 2 system. If precision is the key point in calculations this needs to be considered when floating-point numbers are engaged. In this task, the remedy to representation issue was using integers for calculation and convert result to string with proper decimal point shift. This is not an ideal solution, and it has its downsides, however, for purpose of this task is acceptable. "
   ]
  },
  {
   "cell_type": "markdown",
   "metadata": {},
   "source": [
    "## Task 2 - Chi-Squared Test<a id=\"task2\"/>\n",
    "***"
   ]
  },
  {
   "cell_type": "markdown",
   "metadata": {},
   "source": [
    "### Description"
   ]
  },
  {
   "cell_type": "markdown",
   "metadata": {},
   "source": [
    "The Chi-squared test for independence is a statistical hypothesis test like a t-test. It is used to analyse whether two categorical variables are independent. The [Wikipedia article](https://en.wikipedia.org/w/index.php?title=Chi-squared_test&oldid=983024096) gives the table below as an example, stating the Chi-squared value based on it is approximately 24.6. Use scipy.stats to verify this value and calculate the associated p value. You should include a short note with references justifying your analysis in a markdown cell."
   ]
  },
  {
   "cell_type": "markdown",
   "metadata": {},
   "source": [
    "|              | A   | B   | C   | D   | Total |\n",
    "|--------------|-----|-----|-----|-----|-------|\n",
    "| White Collar | 90  | 60  | 104 | 95  | 349   |\n",
    "| Blue Collar  | 30  | 50  | 51  | 20  | 151   |\n",
    "| No Collar    | 30  | 40  | 45  | 35  | 150   |\n",
    "| Total        | 150 | 150 | 200 | 150 | 650   |"
   ]
  },
  {
   "cell_type": "markdown",
   "metadata": {},
   "source": [
    "### Research"
   ]
  },
  {
   "cell_type": "markdown",
   "metadata": {},
   "source": [
    "The Pearson’s Chi-Squared test, or just Chi-Squared test for short, is named for Karl Pearson, although there are variations on the test.\n",
    "The Chi-Squared test is a statistical hypothesis test that assumes (the null hypothesis) that the observed frequencies for a categorical variable match the expected frequencies for the categorical variable. The test calculates a statistic that has a chi-squared distribution, named for the Greek capital letter Chi (X) pronounced “ki” as in kite.[1]\n",
    "\n",
    "The chi-square statistical test is used to determine whether there’s a significant difference between an expected distribution and an actual distribution. It’s typically used with categorical data such as educational attainment, colors, or gender.[2]\n",
    "\n",
    "The Chi-Squared test uses a contingency table, first calculating the expected frequencies for the groups, then determining whether the division of the groups, called the observed frequencies, matches the expected frequencies.\n",
    "\n",
    "<p align=\"center\"> <img width=\"400\" height=\"200\" src=\"Images/chi2.jpg\" alt=\"root\" /> </p>\n",
    "\n",
    "The result of the test is a test statistic that has a chi-squared distribution and can be interpreted to reject or fail to reject the assumption or null hypothesis that the observed and expected frequencies are the same.[1]"
   ]
  },
  {
   "cell_type": "markdown",
   "metadata": {},
   "source": [
    "### $\\chi^2$ -Test in Python"
   ]
  },
  {
   "cell_type": "markdown",
   "metadata": {},
   "source": [
    "Contingency table was provided for the purpose of this task.\n",
    "\n",
    "When analysis of categorical data is concerned with more than one variable, two-way tables (also known as contingency tables) are employed. These tables provide a foundation for statistical inference, where statistical tests question the relationship between the variables on the basis of the data observed.[3]"
   ]
  },
  {
   "cell_type": "code",
   "execution_count": null,
   "metadata": {},
   "outputs": [],
   "source": [
    "# Import all required librarys\n",
    "import numpy as np\n",
    "import pandas as pd\n",
    "import statsmodels.stats.weightstats as stat\n",
    "import scipy.stats as ss\n",
    "import matplotlib.pyplot as plt\n",
    "\n",
    "\n",
    "# Create contingency table that was provided for the task\n",
    "table = pd.DataFrame({\"A\":[90,30,30],\"B\":[60,50,40],\"C\":[104,51,45],\n",
    "                      \"D\":[95,20,35]}, index=[\"White Collar\",\"Blue Collar\",\"No Collar\"])\n",
    "print(\"Contingency Table\")\n",
    "table"
   ]
  },
  {
   "cell_type": "markdown",
   "metadata": {},
   "source": [
    "A good practice in DA is to visualize data. "
   ]
  },
  {
   "cell_type": "code",
   "execution_count": null,
   "metadata": {},
   "outputs": [],
   "source": [
    "table.plot(kind='bar', title='Neighborhood of Residence by Occupation')\n",
    "plt.xlabel(\"Collar\") \n",
    "plt.ylabel(\"Number of Recidence\") \n",
    "plt.show()"
   ]
  },
  {
   "cell_type": "markdown",
   "metadata": {},
   "source": [
    "Having a contingency table ready the next step is to create code and run the chi-squared test. This test should verify if two categorical variables are independent of each other."
   ]
  },
  {
   "cell_type": "code",
   "execution_count": null,
   "metadata": {},
   "outputs": [],
   "source": [
    "# Run Chi-square test of independence of variables in a contingency table\n",
    "\n",
    "# chi2 = the test statistic, p = probability, dof = degrees of freedom, ex = the expected frequencies\n",
    "chi2, p, dof, ex = ss.chi2_contingency(table)\n",
    "# Print results \n",
    "print(\"The Chi2 is: \" + format(chi2,'.4f')) \n",
    "print(\"The p value is: \"+ format(p,'.4f'))\n",
    "print(\"Degrees of freedom: \", dof)\n",
    "#print(\"The expected frequencies: \", ex)"
   ]
  },
  {
   "cell_type": "markdown",
   "metadata": {},
   "source": [
    "### Summary and Conclusions"
   ]
  },
  {
   "cell_type": "markdown",
   "metadata": {},
   "source": [
    "The obtained results show that null hypothesis can be rejected in this case. The null hypothesis is that each person's neighborhood of residence is independent of the person's occupational classification.[] The p value is below threshold of 0.05 what means that the variables are not independent of each other."
   ]
  },
  {
   "cell_type": "markdown",
   "metadata": {},
   "source": [
    "## Task 3 -  Excel Standard Deviation<a id=\"task3\"/>\n",
    "***"
   ]
  },
  {
   "cell_type": "markdown",
   "metadata": {},
   "source": [
    "### Description"
   ]
  },
  {
   "cell_type": "markdown",
   "metadata": {},
   "source": [
    "The standard deviation of an array of numbers x is calculated using numpy as $np.sqrt(np.sum((x - np.mean(x))**2)/len(x))$.\n",
    "However, Microsoft Excel has two different versions of the standard deviation calculation, STDEV.P and STDEV.S . The STDEV.P function performs the above calculation but in the STDEV.S calculation the division is by $len(x)-1$ rather\n",
    "than $len(x)$ . Research these Excel functions, writing a note in a Markdown cell about the difference between them. Then use numpy to perform a simulation demonstrating that the STDEV.S calculation is a better estimate for the standard\n",
    "deviation of a population when performed on a sample. Note that part of this task is to figure out the terminology in the previous sentence."
   ]
  },
  {
   "cell_type": "markdown",
   "metadata": {},
   "source": [
    "### Research"
   ]
  },
  {
   "cell_type": "markdown",
   "metadata": {},
   "source": [
    "As a starting point the general terminology for this task have to be understanded and explained.\n",
    "\n",
    "**Standard Deviation SD**\n",
    "\n",
    "The standard deviation is a statistic that measures the dispersion of a dataset relative to its mean and is calculated as the square root of the variance. The standard deviation is calculated as the square root of variance by determining each data point's deviation relative to the mean. If the data points are further from the mean, there is a higher deviation within the data set; thus, the more spread out the data, the higher the standard deviation.[1]\n",
    "\n",
    "In another word Standard deviation is a number that describes how spread out the values are. \n",
    "A low standard deviation means that most of the numbers are close to the mean (average) value.\n",
    "A high standard deviation means that the values are spread out over a wider range.[2]\n",
    "\n",
    "In the example below it is visible how that works in practice in pythoon."
   ]
  },
  {
   "cell_type": "code",
   "execution_count": null,
   "metadata": {},
   "outputs": [],
   "source": [
    "# Adapted fromhttps://www.w3schools.com/python/python_ml_standard_deviation.asp\n",
    "import numpy\n",
    "\n",
    "speed = [86,87,88,86,87,85,86]\n",
    "\n",
    "x = numpy.std(speed)\n",
    "\n",
    "print(round(x,2))"
   ]
  },
  {
   "cell_type": "markdown",
   "metadata": {},
   "source": [
    "In this case the standard deviation of speeds in dataset is 0.9 what means that most of the values are within the range of 0.9 from the mean value, which is 86.4."
   ]
  },
  {
   "cell_type": "markdown",
   "metadata": {},
   "source": [
    "**Excel STDEV.P**"
   ]
  },
  {
   "cell_type": "markdown",
   "metadata": {},
   "source": [
    "The STDEV.P function calculates the standard deviation for a sample set of data. Standard deviation is a measure of how much variance there is in a set of numbers compared to the average (mean) of the numbers. The STDEV.P function is meant to estimate standard deviation for an entire population.[3]\n",
    "\n",
    "The **population standard deviation** formula is:[6]\n",
    "\n",
    "<p align=\"center\"> <img width=\"400\" height=\"200\" src=\"Images/population.jpg\" alt=\"root\" /> </p>\n",
    "\n",
    "The population standard deviation is a parameter, which is a fixed value calculated from every individual in the population."
   ]
  },
  {
   "cell_type": "markdown",
   "metadata": {},
   "source": [
    "**Excel STDEV.S**"
   ]
  },
  {
   "cell_type": "markdown",
   "metadata": {},
   "source": [
    "The STDEV.S function calculates the standard deviation in a sample set of data. Standard deviation is a measure of how much variance there is in a set of numbers compared to the average (mean) of the numbers. The STDEV.S function is meant to estimate standard deviation in a sample.[3]"
   ]
  },
  {
   "cell_type": "markdown",
   "metadata": {},
   "source": [
    "The **sample standard deviation** formula is:[6]\n",
    "\n",
    "<p align=\"center\"> <img width=\"400\" height=\"200\" src=\"Images/sample.jpg\" alt=\"root\" /> </p>\n",
    "\n",
    "The sample standard deviation is a statistic. This means that it is calculated from only some of the individuals in a population."
   ]
  },
  {
   "cell_type": "markdown",
   "metadata": {},
   "source": [
    "### Python Simulation"
   ]
  },
  {
   "cell_type": "markdown",
   "metadata": {},
   "source": [
    "By undestanding the differences between each of the function is possible to perform calculation and simulation in Pyton."
   ]
  },
  {
   "cell_type": "code",
   "execution_count": null,
   "metadata": {},
   "outputs": [],
   "source": [
    "# Import all required librarys\n",
    "import numpy as np\n",
    "import pandas as pd\n",
    "from random import sample,choice\n",
    "import matplotlib.pyplot as plt\n",
    "import seaborn as sns\n",
    "import scipy\n",
    "\n",
    "# Use seed for repeating results in this notebook\n",
    "np.random.seed(3)\n",
    "# Create a population data by using randit from nympy which returns 100 random integers \n",
    "# from low 0 (inclusive) to high 101 (exclusive).\n",
    "data = np.random.randint(0,101,size=100)\n",
    "# Display data\n",
    "print(data)"
   ]
  },
  {
   "cell_type": "code",
   "execution_count": null,
   "metadata": {},
   "outputs": [],
   "source": [
    "# Create function to calculate standard deviation for a population. Equivalent of STDEV.P in Excel.\n",
    "\n",
    "def stdev_p(data):\n",
    "    \"\"\"Manually created function to calculate standard deviation for a population.  \"\"\"\n",
    "    return np.sqrt(np.sum((data - np.mean(data))**2)/(len(data)))\n",
    "\n",
    "print(f\"Population standard deviation stdev_p: {stdev_p(data):.2f}\")  "
   ]
  },
  {
   "cell_type": "code",
   "execution_count": null,
   "metadata": {},
   "outputs": [],
   "source": [
    "# Compare results with built-in function in numpy\n",
    "print(f\"Population standard deviation numpy: {stdev_p(data):.2f}\")  "
   ]
  },
  {
   "cell_type": "markdown",
   "metadata": {},
   "source": [
    "The above results confirm that as a standard deviation function in numpy the population standard deviation is used."
   ]
  },
  {
   "cell_type": "markdown",
   "metadata": {},
   "source": [
    "Now the samples from entire population will be taken and sample standard deviation function will be created."
   ]
  },
  {
   "cell_type": "code",
   "execution_count": null,
   "metadata": {},
   "outputs": [],
   "source": [
    "# Assign first 30 values from data to sample array\n",
    "samples=data[0:30]"
   ]
  },
  {
   "cell_type": "code",
   "execution_count": null,
   "metadata": {},
   "outputs": [],
   "source": [
    "# Create function to calculate sample standard deviation. Equivalent of STDEV.S in Excel.\n",
    "\n",
    "def stdev_s(data):\n",
    "    \"\"\"Function to calculate sample standard deviation.\"\"\"\n",
    "    return np.sqrt(np.sum((data - np.mean(data))**2)/(len(data)-1))\n",
    "\n",
    "print(f\"Sample standard deviation stdev_s: {stdev_s(samples) :.2f}\")  "
   ]
  },
  {
   "cell_type": "markdown",
   "metadata": {},
   "source": [
    "The next step is to use stdev_p created function on the samples instead of on entire data. "
   ]
  },
  {
   "cell_type": "code",
   "execution_count": null,
   "metadata": {},
   "outputs": [],
   "source": [
    "# Check the results with stdev_p function\n",
    "\n",
    "print(f\"Population standard deviation stdev_p used with samples: {stdev_p(samples) :.2f}\")"
   ]
  },
  {
   "cell_type": "markdown",
   "metadata": {},
   "source": [
    "Having all results together it is possible to calculate the accuracy of those two functions."
   ]
  },
  {
   "cell_type": "code",
   "execution_count": null,
   "metadata": {},
   "outputs": [],
   "source": [
    "# Calculate difference for population and sample standard deviation\n",
    "\n",
    "data_pdev = stdev_p(data)\n",
    "sam_sdev = stdev_s(samples)\n",
    "sam_pdev = stdev_p(samples)\n",
    "\n",
    "print(f\" The difference between population standard deviation on entire data and 30 samples: {abs(data_pdev - sam_pdev):.2f}\")\n",
    "print(f\" The difference between population standard deviation on entire data and sample standard deviation on 30 samples: {abs(data_pdev - sam_sdev):.2f}\")"
   ]
  },
  {
   "cell_type": "markdown",
   "metadata": {},
   "source": [
    "It is clearly visible that sample standard deviation produced more accurate results for sample dataset. "
   ]
  },
  {
   "cell_type": "markdown",
   "metadata": {},
   "source": [
    "**How does it work in practice?**"
   ]
  },
  {
   "cell_type": "markdown",
   "metadata": {},
   "source": [
    "Let's say that there is a problem where somebody want to analyze the heights of the oak trees in a forest. The man can of course, measure every single tree of the forest and so have collected statistics about the entire forest, but this could be very expensive and would take a very long time. Instead it is better to obtain a sample of , let’s say, 20 trees and try to relate sample statistics and population statistics.\n",
    "\n",
    "Using the formula with $N-1$, a sample variance is given, which on average, is equal to the unknown population variance. So, also with few samples, a reasonable estimate of the actual but unknown parameters of the population distribution can be  obtained.\n",
    "\n",
    "So, when the $N$ is used instead of $N-1$, an error called statistical bias occuring, which means that the sample variance (the estimator) is systematically different from the true population parameter (in this case, the variance).\n",
    "The correcting factor $N/(N-1)$ is called the Bessel factor and allow to get the average of unbiased variance s² as a function of biased one:\n",
    "\n",
    "<p align=\"center\"> <img width=\"400\" height=\"200\" src=\"Images/bassel.jpg\" alt=\"root\" /> </p>\n",
    "\n",
    "If N, the number of observations, is small, the Bessel factor has to be applied to have a better estimate of the real variance. If $N$ is big, Bessel can be omited because $N/(N-1)$ is approximately equal to 1.[19]"
   ]
  },
  {
   "cell_type": "markdown",
   "metadata": {},
   "source": [
    "* In the simulation below the forest of 10000 oak trees will be considered. This is the entire population. \n",
    "* The distribution of heights needs to be estimated.\n",
    "* Let's assume that the heights are normally distributed with an average of 10m and a standard deviation (square root of variance) of 2m.\n",
    "* These are the statistical parameters of the entire population. "
   ]
  },
  {
   "cell_type": "code",
   "execution_count": null,
   "metadata": {},
   "outputs": [],
   "source": [
    "# Adopted from https://towardsdatascience.com/variance-sample-vs-population-3ddbd29e498a\n",
    "\n",
    "# Use seed for repeating results in this notebook\n",
    "np.random.seed(1234)\n",
    "# define mean, in this case the heights are normally distributed with an average of 10m \n",
    "mu = 10\n",
    "# define standard deviation, in this case the standard deviation is 2m \n",
    "sigma = 2\n",
    "# Generate normally distributed population of 10000 oak trees\n",
    "pop = np.random.normal(mu, sigma, 10000)\n",
    "# Define chart size\n",
    "plt.figure(figsize=(16,8))\n",
    "# Add grid lines\n",
    "plt.grid(True)\n",
    "# Add title to the chart\n",
    "plt.title(\"Normally Distributed Population of Oak Trees\", fontweight=\"bold\", fontsize=15)\n",
    "# # Add x lable to the chart\n",
    "plt.xlabel('Trees Height', fontweight=\"bold\", size=12)\n",
    "# Add y lable to the chart\n",
    "plt.ylabel('Density', fontweight=\"bold\", size=12)\n",
    "# Plot a histogram with population\n",
    "count, bins, ignored = plt.hist(pop, 100, density=True, color = 'green')"
   ]
  },
  {
   "cell_type": "markdown",
   "metadata": {},
   "source": [
    "* The simulation tries to estimate these values through a sample of 20 random oak trees. \n",
    "* The experiment will be repeated 100 times. "
   ]
  },
  {
   "cell_type": "code",
   "execution_count": null,
   "metadata": {},
   "outputs": [],
   "source": [
    "# Sets a plot style for seaborn\n",
    "sns.set_style('whitegrid')\n",
    "# The simulation will be repeated 100 times\n",
    "tests = 100\n",
    "# Create empty array for \n",
    "sam = []\n",
    "# Create empty array for mean\n",
    "mean =[]\n",
    "# Create empty array for biased standard deviation N\n",
    "std_b = []\n",
    "# Create empty array for unbiased standard deviation N-1\n",
    "std_u = []\n",
    "# Show two plots beside each other\n",
    "fig, axs = plt.subplots(ncols=2,figsize=(14,7))\n",
    "# Show results using a kernel density estimate (KDE) plot\n",
    "sns.kdeplot(pop, bw_adjust=2, ax=axs[0])\n",
    "# Define space between subplots\n",
    "fig.tight_layout(pad=5.0)\n",
    "# Create loop to repeat test 100 times\n",
    "for i in range(tests):\n",
    "    # Select 20 random samples from population using choice \n",
    "    sam_20 = np.random.choice(pop, 20)\n",
    "    # Plot selected samples \n",
    "    sns.kdeplot(sam_20, bw_adjust=0.3, ax=axs[1])\n",
    "    # Add selected samples to array\n",
    "    sam.append(sam_20)\n",
    "    # Add mean of selected samples to array\n",
    "    mean.append(np.mean(sam_20))\n",
    "    # Calculate and add biased standard deviation(STDEV.P) of selected samples to array\n",
    "    std_b.append(np.std(sam_20))\n",
    "    # Calculate and add biased standard deviation(STDEV.S) of selected samples to array\n",
    "    # In numpy.std can perform (STDEV.S) calculation by adding ddof parameter. Means Delta Degrees of Freedom \"ddof\"\n",
    "    # The divisor used in calculations is N - ddof, where N represents the number of elements. By default ddof is zero.\n",
    "    # https://numpy.org/doc/stable/reference/generated/numpy.std.html\n",
    "    std_u.append(np.std(sam_20, ddof=1))\n",
    "# Put all results to dataframe\n",
    "frame = {'mean':mean, 'std_b': std_b, 'std_u': std_u}\n",
    "table = pd.DataFrame(frame)\n",
    "plt.show()"
   ]
  },
  {
   "cell_type": "markdown",
   "metadata": {},
   "source": [
    "This way, a sample mean “mean” standard deviation (biased) “std_b” and unbiased (ddof=1 is the same as (N-1) instead of N) standard deviation “std_u” for each of the 100 experiments was generated. Given that 20 samples are a tiny subset of 10000 items of population, every time the test was ran, different distributions was obtained. However on average, a reasonable estimate of the real mean and standard deviation was received."
   ]
  },
  {
   "cell_type": "code",
   "execution_count": null,
   "metadata": {},
   "outputs": [],
   "source": []
  },
  {
   "cell_type": "code",
   "execution_count": null,
   "metadata": {},
   "outputs": [],
   "source": []
  },
  {
   "cell_type": "markdown",
   "metadata": {},
   "source": [
    "## Task 4<a id=\"task4\"/>"
   ]
  },
  {
   "cell_type": "markdown",
   "metadata": {},
   "source": []
  },
  {
   "cell_type": "markdown",
   "metadata": {},
   "source": [
    "## References<a id=\"references\"/>"
   ]
  },
  {
   "cell_type": "markdown",
   "metadata": {},
   "source": [
    "#####  Task 1\n",
    "***\n",
    "\n",
    "1. [Wikipedia - Square root of 2](https://en.wikipedia.org/wiki/Square_root_of_2)[viewed 10th Oct 2020]\n",
    "1. [Wikipedia - Methods of computing square roots](https://en.wikipedia.org/wiki/Methods_of_computing_square_roots)[viewed 10th Oct 2020]\n",
    "1. [Medium - Newton-Raphson Method](https://surajregmi.medium.com/how-to-calculate-the-square-root-of-a-number-newton-raphson-method-f8007714f64)[viewed 10th Oct 2020]\n",
    "1. [Python.org - Floating Point Arithmetic: Issues and Limitations](https://docs.python.org/3.10/tutorial/floatingpoint.html)[viewed 12th Oct 2020]\n",
    "1. [Stackoverflow.com](https://stackoverflow.com/questions/64278117/is-there-a-way-to-create-more-decimal-points-on-python-without-importing-a-libra)[viewed 12th Oct 2020]\n",
    "1. [NASA - Square root of two](https://apod.nasa.gov/htmltest/gifcity/sqrt2.10mil)[viewed 12th Oct 2020]\n",
    "1. [Go Language - square root](https://tour.golang.org/flowcontrol/8)[viewed 12th Oct 2020]\n",
    "1. [Python.org - Decimal](https://docs.python.org/3/library/decimal.html)[viewed 12th Oct 2020]\n",
    "\n",
    "#####  Task 2\n",
    "***\n",
    "\n",
    "9. [Machine Learning Mastery - A Gentle Introduction to the Chi-Squared Test for Machine Learning](https://machinelearningmastery.com/chi-squared-test-for-machine-learning/)[viewed 7th Nov 2020]\n",
    "1. [Towards Data Science - Running Chi-Square Tests with Die Roll Data in Python](https://towardsdatascience.com/running-chi-square-tests-in-python-with-die-roll-data-b9903817c51b)[viewed 7th Nov 2020]\n",
    "1. [Stat Yale - Two-Way Tables and the Chi-Square Test](http://www.stat.yale.edu/Courses/1997-98/101/chisq.htm)[viewed 7th Nov 2020]\n",
    "1. [Wikipedia - Chi-squared test](https://en.wikipedia.org/w/index.php?title=Chi-squaredtest&oldid=983024096)[viewed 7th Nov 2020]\n",
    "\n",
    "#####  Task 3\n",
    "***\n",
    "\n",
    "15. [Investopedia - Standard Deviation](https://www.investopedia.com/terms/s/standarddeviation.asp)[viewed 20th Nov 2020]\n",
    "1. [w3schools - Machine Learning - Standard Deviation](https://www.w3schools.com/python/python_ml_standard_deviation.asp)[viewed 20th Nov 2020]\n",
    "1. [Exceljet - Excel STDEVP Function](https://exceljet.net/excel-functions/excel-stdev.s-function)[viewed 20th Nov 2020]\n",
    "1. [Leard Statistics - Standard Deviation](https://statistics.laerd.com/statistical-guides/measures-of-spread-standard-deviation.php)[viewed 20th Nov 2020]\n",
    "\n",
    "1. []()[]\n",
    "\n",
    "#####  Task 4\n",
    "***\n",
    "\n",
    "21. []()[viewed  2020]\n",
    "1. []()[]\n",
    "1. []()[]\n",
    "1. []()[]\n",
    "1. []()[]\n",
    "1. []()[]"
   ]
  }
 ],
 "metadata": {
  "kernelspec": {
   "display_name": "Python 3",
   "language": "python",
   "name": "python3"
  },
  "language_info": {
   "codemirror_mode": {
    "name": "ipython",
    "version": 3
   },
   "file_extension": ".py",
   "mimetype": "text/x-python",
   "name": "python",
   "nbconvert_exporter": "python",
   "pygments_lexer": "ipython3",
   "version": "3.7.9"
  }
 },
 "nbformat": 4,
 "nbformat_minor": 4
}
